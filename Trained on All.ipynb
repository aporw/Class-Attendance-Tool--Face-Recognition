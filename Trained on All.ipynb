{
 "cells": [
  {
   "cell_type": "code",
   "execution_count": 4,
   "metadata": {},
   "outputs": [
    {
     "name": "stderr",
     "output_type": "stream",
     "text": [
      "Using TensorFlow backend.\n"
     ]
    }
   ],
   "source": [
    "import keras\n",
    "import numpy as np\n",
    "import matplotlib.pyplot as plt\n",
    "from keras.models import Model\n",
    "from keras.layers import Input, add\n",
    "from keras.layers.core import Layer, Dense, Dropout, Activation, Flatten, Reshape\n",
    "from keras import regularizers\n",
    "from keras.regularizers import l2\n",
    "from keras.layers.convolutional import Conv2D, MaxPooling2D, UpSampling2D, ZeroPadding2D, Cropping2D\n",
    "from keras.utils import np_utils"
   ]
  },
  {
   "cell_type": "code",
   "execution_count": null,
   "metadata": {},
   "outputs": [],
   "source": [
    "Untitled Folder"
   ]
  },
  {
   "cell_type": "code",
   "execution_count": 5,
   "metadata": {},
   "outputs": [],
   "source": [
    "import cv2\n",
    "from imutils import paths"
   ]
  },
  {
   "cell_type": "code",
   "execution_count": 6,
   "metadata": {},
   "outputs": [],
   "source": [
    "import os"
   ]
  },
  {
   "cell_type": "code",
   "execution_count": 15,
   "metadata": {},
   "outputs": [],
   "source": [
    "dirct = os.getcwd()+ os.path.sep + \"Part1\"\n",
    "images  = list(paths.list_images(dirct))\n",
    "#features=cv2.imread(dirct+\"\\\\jingxi1.JPG\")\n",
    "#input_shape = features.shape"
   ]
  },
  {
   "cell_type": "code",
   "execution_count": 16,
   "metadata": {},
   "outputs": [
    {
     "data": {
      "text/plain": [
       "5809"
      ]
     },
     "execution_count": 16,
     "metadata": {},
     "output_type": "execute_result"
    }
   ],
   "source": [
    "len(images)"
   ]
  },
  {
   "cell_type": "code",
   "execution_count": 17,
   "metadata": {},
   "outputs": [],
   "source": [
    "train_ls = []\n",
    "for im in images:\n",
    "    f = cv2.imread(im)\n",
    "    f_bar = cv2.resize(f,(500,800))\n",
    "    #inp = f.reshape(-1, f.shape[0], f.shape[1], f.shape[2])\n",
    "    train_ls.append( f_bar)"
   ]
  },
  {
   "cell_type": "code",
   "execution_count": 18,
   "metadata": {},
   "outputs": [
    {
     "data": {
      "text/plain": [
       "5809"
      ]
     },
     "execution_count": 18,
     "metadata": {},
     "output_type": "execute_result"
    }
   ],
   "source": [
    "len(train_ls)"
   ]
  },
  {
   "cell_type": "code",
   "execution_count": 19,
   "metadata": {},
   "outputs": [],
   "source": [
    "train =np.array(train_ls)"
   ]
  },
  {
   "cell_type": "code",
   "execution_count": 20,
   "metadata": {},
   "outputs": [
    {
     "data": {
      "text/plain": [
       "(800, 500, 3)"
      ]
     },
     "execution_count": 20,
     "metadata": {},
     "output_type": "execute_result"
    }
   ],
   "source": [
    "train[0].shape"
   ]
  },
  {
   "cell_type": "code",
   "execution_count": 21,
   "metadata": {},
   "outputs": [
    {
     "name": "stdout",
     "output_type": "stream",
     "text": [
      "WARNING:tensorflow:From /home/ap3767/miniconda3/envs/ankurEnv/lib/python3.6/site-packages/tensorflow/python/framework/op_def_library.py:263: colocate_with (from tensorflow.python.framework.ops) is deprecated and will be removed in a future version.\n",
      "Instructions for updating:\n",
      "Colocations handled automatically by placer.\n",
      "(?, 100, 63, 4)\n",
      "800 504\n",
      "(?, 800, 500, 3)\n"
     ]
    }
   ],
   "source": [
    "x = Input(shape=(train.shape[1], train.shape[2],train.shape[3])) \n",
    "\n",
    "# Encoder\n",
    "#prepool = MaxPooling2D((2, 2), padding='same')(x)\n",
    "conv1_1 = Conv2D(16, (3, 3), activation='relu', padding='same')(x)\n",
    "pool1 = MaxPooling2D((2, 2), padding='same')(conv1_1)\n",
    "conv1_2 = Conv2D(8, (3, 3), activation='relu', padding='same')(pool1)\n",
    "pool2 = MaxPooling2D((2, 2), padding='same')(conv1_2)\n",
    "conv1_3 = Conv2D(8, (3, 3), activation='relu', padding='same')(pool2)\n",
    "pool3 = MaxPooling2D((2, 2), padding='same')(conv1_3)\n",
    "#print(pool3.shape)\n",
    "conv1_4 = Conv2D(4, (3, 3), activation='relu', padding='same')(pool3)\n",
    "h = MaxPooling2D((1, 1), padding='same')(conv1_4)\n",
    "\n",
    "print(h.shape)\n",
    "\n",
    "# Decoder\n",
    "\n",
    "conv2_0 = Conv2D(4, (3, 3), activation='relu', padding='same')(h)\n",
    "up0 = UpSampling2D((1, 1))(conv2_0)\n",
    "#print(up0.shape)\n",
    "conv2_1 = Conv2D(8, (3, 3), activation='relu', padding='same')(up0)\n",
    "up1 = UpSampling2D((2, 2))(conv2_1)\n",
    "#print(up1.shape)\n",
    "conv2_2 = Conv2D(8, (3, 3), activation='relu', padding='same')(up1)\n",
    "up2 = UpSampling2D((2, 2))(conv2_2)\n",
    "#print(up2.shape)\n",
    "conv2_3 = Conv2D(16, (3, 3), activation='relu',padding='same')(up2)\n",
    "up3 = UpSampling2D((2, 2))(conv2_3)\n",
    "#print(up3.shape)\n",
    "r_ = Conv2D(train.shape[3], (3, 3), activation='relu', padding='same')(up3)\n",
    "#r_ = UpSampling2D((2, 2))(r__)\n",
    "f1 = r_.shape[1]\n",
    "f2 = r_.shape[2]\n",
    "print(f1,f2)\n",
    "#print(f1-input_shape[0],f2-input_shape[1] )\n",
    "r = Cropping2D(cropping=((f1-train.shape[1], 0), (f2-train.shape[2], 0)), data_format=None)(r_)\n",
    "print(r.shape)\n",
    "autoencoder = Model(inputs=x, outputs=r)\n",
    "autoencoder.compile(optimizer='adadelta', loss='mse')"
   ]
  },
  {
   "cell_type": "code",
   "execution_count": 22,
   "metadata": {},
   "outputs": [
    {
     "name": "stdout",
     "output_type": "stream",
     "text": [
      "WARNING:tensorflow:From /home/ap3767/miniconda3/envs/ankurEnv/lib/python3.6/site-packages/tensorflow/python/ops/math_ops.py:3066: to_int32 (from tensorflow.python.ops.math_ops) is deprecated and will be removed in a future version.\n",
      "Instructions for updating:\n",
      "Use tf.cast instead.\n",
      "Train on 4647 samples, validate on 1162 samples\n",
      "Epoch 1/25\n",
      "4647/4647 [==============================] - 158s 34ms/step - loss: 2498.7924 - val_loss: 818.3608\n",
      "Epoch 2/25\n",
      "4647/4647 [==============================] - 151s 33ms/step - loss: 1072.6256 - val_loss: 1071.1316\n",
      "Epoch 3/25\n",
      "4647/4647 [==============================] - 151s 32ms/step - loss: 1159.3696 - val_loss: 1504.1268\n",
      "Epoch 4/25\n",
      "4647/4647 [==============================] - 151s 33ms/step - loss: 1224.4683 - val_loss: 1152.1608\n",
      "Epoch 5/25\n",
      "4647/4647 [==============================] - 151s 32ms/step - loss: 1190.4510 - val_loss: 1202.9370\n",
      "Epoch 6/25\n",
      "4647/4647 [==============================] - 151s 33ms/step - loss: 1134.9777 - val_loss: 751.1571\n",
      "Epoch 7/25\n",
      "4647/4647 [==============================] - 151s 32ms/step - loss: 1102.0138 - val_loss: 968.1753\n",
      "Epoch 8/25\n",
      "4647/4647 [==============================] - 151s 33ms/step - loss: 1074.0158 - val_loss: 669.6548\n",
      "Epoch 9/25\n",
      "4647/4647 [==============================] - 151s 32ms/step - loss: 1080.6773 - val_loss: 948.7248\n",
      "Epoch 10/25\n",
      "4647/4647 [==============================] - 151s 33ms/step - loss: 1032.5607 - val_loss: 1009.7380\n",
      "Epoch 11/25\n",
      "4647/4647 [==============================] - 151s 33ms/step - loss: 999.5715 - val_loss: 1274.8967\n",
      "Epoch 12/25\n",
      "4647/4647 [==============================] - 151s 33ms/step - loss: 996.8154 - val_loss: 947.1777\n",
      "Epoch 13/25\n",
      "4647/4647 [==============================] - 151s 32ms/step - loss: 946.9992 - val_loss: 1502.1285\n",
      "Epoch 14/25\n",
      "4647/4647 [==============================] - 151s 33ms/step - loss: 996.8762 - val_loss: 458.7821\n",
      "Epoch 15/25\n",
      "4647/4647 [==============================] - 151s 33ms/step - loss: 937.5841 - val_loss: 1869.7464\n",
      "Epoch 16/25\n",
      "4647/4647 [==============================] - 151s 33ms/step - loss: 950.0174 - val_loss: 919.3631\n",
      "Epoch 17/25\n",
      "4647/4647 [==============================] - 151s 33ms/step - loss: 972.5510 - val_loss: 1373.5644\n",
      "Epoch 18/25\n",
      "4647/4647 [==============================] - 151s 33ms/step - loss: 901.0488 - val_loss: 378.2248\n",
      "Epoch 19/25\n",
      "4647/4647 [==============================] - 151s 33ms/step - loss: 902.7691 - val_loss: 1264.7545\n",
      "Epoch 20/25\n",
      "4647/4647 [==============================] - 151s 33ms/step - loss: 953.2654 - val_loss: 702.2248\n",
      "Epoch 21/25\n",
      "4647/4647 [==============================] - 151s 33ms/step - loss: 918.4677 - val_loss: 1093.6751\n",
      "Epoch 22/25\n",
      "4647/4647 [==============================] - 151s 33ms/step - loss: 909.3644 - val_loss: 588.6671\n",
      "Epoch 23/25\n",
      "4647/4647 [==============================] - 151s 33ms/step - loss: 882.8634 - val_loss: 1142.8196\n",
      "Epoch 24/25\n",
      "4647/4647 [==============================] - 151s 33ms/step - loss: 922.2646 - val_loss: 527.3295\n",
      "Epoch 25/25\n",
      "4647/4647 [==============================] - 151s 33ms/step - loss: 857.8174 - val_loss: 1439.8547\n"
     ]
    }
   ],
   "source": [
    "epochs =25\n",
    "batch_size = 50\n",
    "\n",
    "history = autoencoder.fit(train, train, batch_size=batch_size, epochs=epochs, verbose=1,  validation_split = 0.2)"
   ]
  },
  {
   "cell_type": "code",
   "execution_count": 23,
   "metadata": {},
   "outputs": [
    {
     "data": {
      "image/png": "[encoded data removed]",
      "text/plain": [
       "<Figure size 432x288 with 1 Axes>"
      ]
     },
     "metadata": {
      "needs_background": "light"
     },
     "output_type": "display_data"
    }
   ],
   "source": [
    "plt.plot(history.history['loss'])\n",
    "plt.plot(history.history['val_loss'])\n",
    "plt.title('model loss')\n",
    "plt.ylabel('loss')\n",
    "plt.xlabel('epoch')\n",
    "plt.legend('train', loc='upper right')\n",
    "plt.show()"
   ]
  },
  {
   "cell_type": "code",
   "execution_count": 11,
   "metadata": {},
   "outputs": [],
   "source": [
    "#train_pred = autoencoder.predict(train)\n",
    "#test_pred = autoencoder.predict(test)"
   ]
  },
  {
   "cell_type": "code",
   "execution_count": 24,
   "metadata": {},
   "outputs": [
    {
     "data": {
      "text/plain": [
       "62"
      ]
     },
     "execution_count": 24,
     "metadata": {},
     "output_type": "execute_result"
    }
   ],
   "source": [
    "dirct_test = os.getcwd()+ os.path.sep + \"Test_set\"\n",
    "test_images  = list(paths.list_images(dirct_test))\n",
    "len(test_images)"
   ]
  },
  {
   "cell_type": "code",
   "execution_count": 25,
   "metadata": {},
   "outputs": [],
   "source": [
    "test_ls = []\n",
    "for im in test_images:\n",
    "    f = cv2.imread(im)\n",
    "    f_bar = cv2.resize(f,(500,800))\n",
    "    #inp = f.reshape(-1, f.shape[0], f.shape[1], f.shape[2])\n",
    "    test_ls.append( f_bar)\n",
    "    \n",
    "test = np.array(test_ls)    "
   ]
  },
  {
   "cell_type": "code",
   "execution_count": 27,
   "metadata": {},
   "outputs": [],
   "source": [
    "i=0\n",
    "for t in test:\n",
    "    p = autoencoder.predict(t.reshape(-1,train.shape[1], train.shape[2],train.shape[3]))\n",
    "    d = p.reshape(train.shape[1], train.shape[2],-1)\n",
    "    \n",
    "    cv2.imwrite(test_images[i]+\"_AE1.jpg\", d)\n",
    "    i=i+1\n",
    "    \n",
    "#test_AE = autoencoder.predict(test)"
   ]
  },
  {
   "cell_type": "code",
   "execution_count": 22,
   "metadata": {},
   "outputs": [
    {
     "name": "stdout",
     "output_type": "stream",
     "text": [
      "Requirement already satisfied: h5py in c:\\users\\ankur\\appdata\\local\\continuum\\anaconda3\\lib\\site-packages (2.7.1)\n",
      "Requirement already satisfied: numpy>=1.7 in c:\\users\\ankur\\appdata\\local\\continuum\\anaconda3\\lib\\site-packages (from h5py) (1.15.1)\n",
      "Requirement already satisfied: six in c:\\users\\ankur\\appdata\\local\\continuum\\anaconda3\\lib\\site-packages (from h5py) (1.11.0)\n"
     ]
    },
    {
     "name": "stderr",
     "output_type": "stream",
     "text": [
      "You are using pip version 10.0.1, however version 19.2.3 is available.\n",
      "You should consider upgrading via the 'python -m pip install --upgrade pip' command.\n"
     ]
    }
   ],
   "source": [
    "! pip install h5py"
   ]
  },
  {
   "cell_type": "code",
   "execution_count": 64,
   "metadata": {},
   "outputs": [
    {
     "name": "stdout",
     "output_type": "stream",
     "text": [
      "Saved model to disk\n",
      "Saved model to disk\n"
     ]
    }
   ],
   "source": [
    "model_json = autoencoder.to_yaml()\n",
    "with open(\"model_AllImage.json\", \"w\") as json_file:\n",
    "    json_file.write(model_json)\n",
    "# serialize weights to HDF5\n",
    "autoencoder.save_weights(\"model_AllImage.h5\")\n",
    "print(\"Saved model to disk\")\n",
    "print(\"Saved model to disk\")"
   ]
  },
  {
   "cell_type": "code",
   "execution_count": null,
   "metadata": {},
   "outputs": [],
   "source": []
  }
 ],
 "metadata": {
  "kernelspec": {
   "display_name": "Python 3",
   "language": "python",
   "name": "python3"
  },
  "language_info": {
   "codemirror_mode": {
    "name": "ipython",
    "version": 3
   },
   "file_extension": ".py",
   "mimetype": "text/x-python",
   "name": "python",
   "nbconvert_exporter": "python",
   "pygments_lexer": "ipython3",
   "version": "3.6.5"
  }
 },
 "nbformat": 4,
 "nbformat_minor": 2
}
